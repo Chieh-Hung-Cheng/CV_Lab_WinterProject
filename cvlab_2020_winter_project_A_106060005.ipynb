{
  "nbformat": 4,
  "nbformat_minor": 0,
  "metadata": {
    "colab": {
      "name": "cvlab_2020_winter_project_A_106060005",
      "provenance": [],
      "collapsed_sections": [],
      "include_colab_link": true
    },
    "kernelspec": {
      "name": "python3",
      "display_name": "Python 3"
    },
    "accelerator": "GPU"
  },
  "cells": [
    {
      "cell_type": "markdown",
      "metadata": {
        "id": "view-in-github",
        "colab_type": "text"
      },
      "source": [
        "<a href=\"https://colab.research.google.com/github/Chieh-hung/CV-lab-project-1/blob/master/cvlab_2020_winter_project_A_106060005.ipynb\" target=\"_parent\"><img src=\"https://colab.research.google.com/assets/colab-badge.svg\" alt=\"Open In Colab\"/></a>"
      ]
    },
    {
      "cell_type": "code",
      "metadata": {
        "id": "_SDWjdz7CbB3",
        "colab_type": "code",
        "outputId": "c0ccf1e0-09f4-4798-b6e6-9ddb5d23ffb8",
        "colab": {
          "base_uri": "https://localhost:8080/",
          "height": 381
        }
      },
      "source": [
        "!wget -nc 140.114.85.52:8000/pA1.csv\n",
        "!wget -nc 140.114.85.52:8000/pA2.csv"
      ],
      "execution_count": 1,
      "outputs": [
        {
          "output_type": "stream",
          "text": [
            "--2020-01-26 04:57:49--  http://140.114.85.52:8000/pA1.csv\n",
            "Connecting to 140.114.85.52:8000... connected.\n",
            "HTTP request sent, awaiting response... 200 OK\n",
            "Length: 604 [text/csv]\n",
            "Saving to: ‘pA1.csv’\n",
            "\n",
            "\rpA1.csv               0%[                    ]       0  --.-KB/s               \rpA1.csv             100%[===================>]     604  --.-KB/s    in 0s      \n",
            "\n",
            "2020-01-26 04:57:49 (90.4 MB/s) - ‘pA1.csv’ saved [604/604]\n",
            "\n",
            "--2020-01-26 04:57:53--  http://140.114.85.52:8000/pA2.csv\n",
            "Connecting to 140.114.85.52:8000... connected.\n",
            "HTTP request sent, awaiting response... 200 OK\n",
            "Length: 631 [text/csv]\n",
            "Saving to: ‘pA2.csv’\n",
            "\n",
            "pA2.csv             100%[===================>]     631  --.-KB/s    in 0s      \n",
            "\n",
            "2020-01-26 04:57:53 (136 MB/s) - ‘pA2.csv’ saved [631/631]\n",
            "\n"
          ],
          "name": "stdout"
        }
      ]
    },
    {
      "cell_type": "code",
      "metadata": {
        "id": "v69S7sIBCpEa",
        "colab_type": "code",
        "colab": {}
      },
      "source": [
        "import numpy as np\n",
        "import pandas as pd\n",
        "import matplotlib.pyplot as plt\n",
        "\n",
        "import matplotlib as mpl\n",
        "from mpl_toolkits.mplot3d import Axes3D\n",
        "\n",
        "import torch\n",
        "from torch import nn\n",
        "from torch.nn import functional as F\n",
        "from torch.utils.data import Dataset, DataLoader"
      ],
      "execution_count": 0,
      "outputs": []
    },
    {
      "cell_type": "code",
      "metadata": {
        "id": "PsOJgKyrCrga",
        "colab_type": "code",
        "colab": {}
      },
      "source": [
        "seed = 999\n",
        "torch.manual_seed(seed)\n",
        "torch.backends.cudnn.deterministic = True"
      ],
      "execution_count": 0,
      "outputs": []
    },
    {
      "cell_type": "code",
      "metadata": {
        "id": "qwVCZ2ZCCwRb",
        "colab_type": "code",
        "outputId": "cc5509be-fd4f-4b06-b9f5-90d88589f61f",
        "colab": {
          "base_uri": "https://localhost:8080/",
          "height": 748
        }
      },
      "source": [
        "class Data:\n",
        "    def __init__(self, csv_path):\n",
        "        super().__init__()\n",
        "        self.anns = pd.read_csv(csv_path).to_dict('records')\n",
        "\n",
        "    def __len__(self):\n",
        "        return len(self.anns)\n",
        "\n",
        "    def __getitem__(self, idx):\n",
        "        ann = self.anns[idx]\n",
        "        x = torch.tensor(ann['x'])\n",
        "        y = torch.tensor(ann['y'])\n",
        "        return x, y\n",
        "\n",
        "\n",
        "class Net1(nn.Module):\n",
        "    def __init__(self):\n",
        "        super().__init__()\n",
        "        self.a = nn.Parameter(torch.rand(1) * 0.001)\n",
        "        self.b = nn.Parameter(torch.rand(1) * 0.001)\n",
        "    \n",
        "    def forward(self, xs):\n",
        "        ps = self.a * xs + self.b\n",
        "        return ps\n",
        "\n",
        "class Net2(nn.Module):\n",
        "    def __init__(self):\n",
        "        super().__init__()\n",
        "        self.a = nn.Parameter(torch.rand(1) * 0.001)\n",
        "        self.b = nn.Parameter(torch.rand(1) * 0.001)\n",
        "        self.c = nn.Parameter(torch.rand(1) * 0.001)\n",
        "    \n",
        "    def forward(self, xs):\n",
        "        ps = self.a * xs * xs + self.b *xs + self.c\n",
        "        return ps        \n",
        "\n",
        "\n",
        "loader1 = DataLoader(Data('./pA1.csv'), batch_size=1, shuffle=True)\n",
        "loader2 = DataLoader(Data('./pA2.csv'), batch_size=1, shuffle=True)\n",
        "\n",
        "device = 'cpu'\n",
        "model1 = Net1().to(device)\n",
        "\n",
        "\n",
        "criterion = nn.L1Loss()\n",
        "optimizer = torch.optim.Adam(model1.parameters(), lr=1e-1)\n",
        "\n",
        "\n",
        "history1 = {\n",
        "    'loss': [],\n",
        "    'a': [],\n",
        "    'b': []\n",
        "}\n",
        "\n",
        "history2 = {\n",
        "    'loss': [],\n",
        "    'a': [],\n",
        "    'b': [],\n",
        "    'c': [],\n",
        "    'idx':[]\n",
        "}\n",
        "\n",
        "plot1 = {\n",
        "    'loss': [],\n",
        "    'a':[],\n",
        "    'b':[]\n",
        "}\n",
        "\n",
        "plot2 = {\n",
        "    'loss': [],\n",
        "    'idx':[]\n",
        "}\n",
        "\n",
        "for epoch in range(20):\n",
        "    totalloss = 0\n",
        "    for xs, ys in iter(loader1):\n",
        "        xs = xs.to(device)\n",
        "        ys = ys.to(device)\n",
        "\n",
        "        optimizer.zero_grad()\n",
        "        ps = model1(xs)\n",
        "        loss1 = criterion(ps, ys)\n",
        "        loss1.backward()\n",
        "        optimizer.step()\n",
        "\n",
        "        totalloss = totalloss + loss1.detach().item()\n",
        "\n",
        "        history1['loss'].append(loss1.detach().item())\n",
        "        history1['a'].append(model1.a.item())\n",
        "        history1['b'].append(model1.b.item())\n",
        "    plot1['loss'].append(totalloss/len(loader1))\n",
        "    plot1['a'].append(model1.a.item())\n",
        "    plot1['b'].append(model1.b.item())\n",
        "\n",
        "\n",
        "print(model1.a)\n",
        "print(model1.b)\n",
        "\n",
        "fig = plt.figure()\n",
        "ax = fig.gca(projection='3d')\n",
        "\n",
        "ax.plot(plot1['a'], plot1['b'], plot1['loss'], label='loss curve to parameters')\n",
        "ax.legend()\n",
        "ax.set_xlabel('a')\n",
        "ax.set_ylabel('b') \n",
        "ax.set_zlabel('L')\n",
        "\n",
        "plt.show()\n",
        "\n",
        "model2 = Net2().to(device)\n",
        "optimizer = torch.optim.Adam(model2.parameters(), lr=1e-1)\n",
        "for epoch in range(20):\n",
        "    totalloss = 0\n",
        "    for xs2, ys2 in iter(loader2):\n",
        "        xs2 = xs2.to(device)\n",
        "        ys2 = ys2.to(device)\n",
        "\n",
        "        optimizer.zero_grad()\n",
        "        ps2 = model2(xs2)\n",
        "        loss2 = criterion(ps2, ys2)\n",
        "        loss2.backward()\n",
        "        optimizer.step()\n",
        "\n",
        "        totalloss = totalloss + loss2.detach().item()\n",
        "\n",
        "        history2['loss'].append(loss2.detach().item())\n",
        "        history2['a'].append(model2.a.item())\n",
        "        history2['b'].append(model2.b.item())\n",
        "        history2['c'].append(model2.c.item())\n",
        "    plot2['idx'].append(epoch)\n",
        "    plot2['loss'].append(totalloss/len(loader2))\n",
        "\n",
        "    \n",
        "\n",
        "print(model2.a)\n",
        "print(model2.b)\n",
        "print(model2.c)\n",
        "\n",
        "print(plot2['idx'])\n",
        "print(plot2['loss'])\n",
        "\n",
        "plt.xlabel('Epoch')\n",
        "plt.ylabel('Loss')\n",
        "plt.plot(plot2['idx'], plot2['loss'])\n",
        "plt.show()\n"
      ],
      "execution_count": 4,
      "outputs": [
        {
          "output_type": "stream",
          "text": [
            "Parameter containing:\n",
            "tensor([4.9948], requires_grad=True)\n",
            "Parameter containing:\n",
            "tensor([4.1474], requires_grad=True)\n"
          ],
          "name": "stdout"
        },
        {
          "output_type": "display_data",
          "data": {
            "image/png": "[encoded data removed]",
            "text/plain": [
              "<Figure size 432x288 with 1 Axes>"
            ]
          },
          "metadata": {
            "tags": []
          }
        },
        {
          "output_type": "stream",
          "text": [
            "Parameter containing:\n",
            "tensor([-1.8965], requires_grad=True)\n",
            "Parameter containing:\n",
            "tensor([1.2241], requires_grad=True)\n",
            "Parameter containing:\n",
            "tensor([4.0224], requires_grad=True)\n",
            "[0, 1, 2, 3, 4, 5, 6, 7, 8, 9, 10, 11, 12, 13, 14, 15, 16, 17, 18, 19]\n",
            "[1.4946521544456481, 0.2605277061462402, 0.12295823574066161, 0.0654220724105835, 0.08287627220153809, 0.05959886074066162, 0.05125113487243652, 0.05324899196624756, 0.0539734935760498, 0.0691588592529297, 0.052547974586486815, 0.04038843154907226, 0.043561968803405765, 0.06301961898803711, 0.06070779323577881, 0.08835155010223389, 0.058095846176147464, 0.044278287887573244, 0.05462552547454834, 0.0511111307144165]\n"
          ],
          "name": "stdout"
        },
        {
          "output_type": "display_data",
          "data": {
            "image/png": "[encoded data removed]",
            "text/plain": [
              "<Figure size 432x288 with 1 Axes>"
            ]
          },
          "metadata": {
            "tags": []
          }
        }
      ]
    },
    {
      "cell_type": "markdown",
      "metadata": {
        "id": "7b0tSB0EKbmK",
        "colab_type": "text"
      },
      "source": [
        "# Report"
      ]
    }
  ]
}